{
 "cells": [
  {
   "cell_type": "code",
   "execution_count": 1,
   "metadata": {
    "collapsed": true
   },
   "outputs": [],
   "source": [
    "import pandas as pd \n",
    "import numpy as np \n",
    "import matplotlib.pyplot as plt \n",
    "import seaborn as sns \n",
    "%matplotlib inline\n",
    "pd.set_option('display.max_columns',75)\n",
    "sns.set_style('darkgrid')"
   ]
  },
  {
   "cell_type": "code",
   "execution_count": 2,
   "metadata": {
    "collapsed": true
   },
   "outputs": [],
   "source": [
    "# Pandas is Reading in the tables from excel\n",
    "\n",
    "dfc = pd.read_excel('(2)_company_contacts.xlsx')\n",
    "dfl = pd.read_excel('(1)_company_list_.xlsx')"
   ]
  },
  {
   "cell_type": "code",
   "execution_count": 3,
   "metadata": {
    "collapsed": false
   },
   "outputs": [
    {
     "data": {
      "text/html": [
       "<div>\n",
       "<table border=\"1\" class=\"dataframe\">\n",
       "  <thead>\n",
       "    <tr style=\"text-align: right;\">\n",
       "      <th></th>\n",
       "      <th>company_name</th>\n",
       "      <th>date</th>\n",
       "      <th>teus</th>\n",
       "    </tr>\n",
       "  </thead>\n",
       "  <tbody>\n",
       "    <tr>\n",
       "      <th>0</th>\n",
       "      <td>SonElectronics</td>\n",
       "      <td>2016-04-01</td>\n",
       "      <td>520.333622</td>\n",
       "    </tr>\n",
       "    <tr>\n",
       "      <th>1</th>\n",
       "      <td>Waresplus World Wide</td>\n",
       "      <td>2016-04-01</td>\n",
       "      <td>280.515400</td>\n",
       "    </tr>\n",
       "    <tr>\n",
       "      <th>2</th>\n",
       "      <td>Sannanix Cross Injections</td>\n",
       "      <td>2016-08-01</td>\n",
       "      <td>953.549324</td>\n",
       "    </tr>\n",
       "    <tr>\n",
       "      <th>3</th>\n",
       "      <td>SonElectronics</td>\n",
       "      <td>2016-03-01</td>\n",
       "      <td>405.294087</td>\n",
       "    </tr>\n",
       "    <tr>\n",
       "      <th>4</th>\n",
       "      <td>UniTex Polymers</td>\n",
       "      <td>2016-06-01</td>\n",
       "      <td>75.238914</td>\n",
       "    </tr>\n",
       "  </tbody>\n",
       "</table>\n",
       "</div>"
      ],
      "text/plain": [
       "                company_name       date        teus\n",
       "0             SonElectronics 2016-04-01  520.333622\n",
       "1       Waresplus World Wide 2016-04-01  280.515400\n",
       "2  Sannanix Cross Injections 2016-08-01  953.549324\n",
       "3             SonElectronics 2016-03-01  405.294087\n",
       "4            UniTex Polymers 2016-06-01   75.238914"
      ]
     },
     "execution_count": 3,
     "metadata": {},
     "output_type": "execute_result"
    }
   ],
   "source": [
    "# take a look at the top of the dfl table\n",
    "dfl.head()"
   ]
  },
  {
   "cell_type": "code",
   "execution_count": 4,
   "metadata": {
    "collapsed": false
   },
   "outputs": [
    {
     "data": {
      "text/html": [
       "<div>\n",
       "<table border=\"1\" class=\"dataframe\">\n",
       "  <thead>\n",
       "    <tr style=\"text-align: right;\">\n",
       "      <th></th>\n",
       "      <th>name</th>\n",
       "      <th>company</th>\n",
       "      <th>title</th>\n",
       "    </tr>\n",
       "  </thead>\n",
       "  <tbody>\n",
       "    <tr>\n",
       "      <th>0</th>\n",
       "      <td>Austin Hayun</td>\n",
       "      <td>Strongline Ltd</td>\n",
       "      <td>Main Person</td>\n",
       "    </tr>\n",
       "    <tr>\n",
       "      <th>1</th>\n",
       "      <td>Frank Grove</td>\n",
       "      <td>Waresplus World Wide</td>\n",
       "      <td>VP Operations</td>\n",
       "    </tr>\n",
       "    <tr>\n",
       "      <th>2</th>\n",
       "      <td>Blasé Locale</td>\n",
       "      <td>Quotedax Inc.</td>\n",
       "      <td>Logistics</td>\n",
       "    </tr>\n",
       "    <tr>\n",
       "      <th>3</th>\n",
       "      <td>Lem Mannors</td>\n",
       "      <td>tempZoom</td>\n",
       "      <td>Logistics</td>\n",
       "    </tr>\n",
       "    <tr>\n",
       "      <th>4</th>\n",
       "      <td>Matt York</td>\n",
       "      <td>Keycane Sugar</td>\n",
       "      <td>COO</td>\n",
       "    </tr>\n",
       "  </tbody>\n",
       "</table>\n",
       "</div>"
      ],
      "text/plain": [
       "           name               company          title\n",
       "0  Austin Hayun        Strongline Ltd    Main Person\n",
       "1   Frank Grove  Waresplus World Wide  VP Operations\n",
       "2  Blasé Locale         Quotedax Inc.      Logistics\n",
       "3   Lem Mannors              tempZoom      Logistics\n",
       "4     Matt York         Keycane Sugar            COO"
      ]
     },
     "execution_count": 4,
     "metadata": {},
     "output_type": "execute_result"
    }
   ],
   "source": [
    "# take a look at the top of the dfc column\n",
    "dfc.head()"
   ]
  },
  {
   "cell_type": "code",
   "execution_count": 5,
   "metadata": {
    "collapsed": false,
    "deletable": true,
    "editable": true
   },
   "outputs": [],
   "source": [
    "\n",
    "def segment(total):\n",
    "    '''\n",
    "    function for returning the segment category based on total teus\n",
    "    '''\n",
    "    if total < 1000:\n",
    "        return 'emerging'\n",
    "    if 1000 <= total < 6500:\n",
    "        return 'smb'\n",
    "    if 6500 <= total <10000:\n",
    "        return 'mid_market'\n",
    "    if total > 10000:\n",
    "        return 'enterprise'\n",
    "\n",
    "def assign(search_table, val,col):\n",
    "    '''\n",
    "    search table = dataframe with co name index\n",
    "    \n",
    "    '''\n",
    "    if val in search_table.index:\n",
    "        return search_table.loc[val][col]\n",
    "    pass\n",
    "    \n",
    "    "
   ]
  },
  {
   "cell_type": "code",
   "execution_count": 6,
   "metadata": {
    "collapsed": false
   },
   "outputs": [
    {
     "data": {
      "text/html": [
       "<div>\n",
       "<table border=\"1\" class=\"dataframe\">\n",
       "  <thead>\n",
       "    <tr style=\"text-align: right;\">\n",
       "      <th></th>\n",
       "      <th>company_name</th>\n",
       "      <th>teus</th>\n",
       "      <th>segment</th>\n",
       "    </tr>\n",
       "  </thead>\n",
       "  <tbody>\n",
       "    <tr>\n",
       "      <th>0</th>\n",
       "      <td>Quotedax Inc.</td>\n",
       "      <td>6.0</td>\n",
       "      <td>emerging</td>\n",
       "    </tr>\n",
       "    <tr>\n",
       "      <th>1</th>\n",
       "      <td>Strongline Inc</td>\n",
       "      <td>30.0</td>\n",
       "      <td>emerging</td>\n",
       "    </tr>\n",
       "    <tr>\n",
       "      <th>2</th>\n",
       "      <td>Strongline Ltd</td>\n",
       "      <td>50.0</td>\n",
       "      <td>emerging</td>\n",
       "    </tr>\n",
       "    <tr>\n",
       "      <th>3</th>\n",
       "      <td>Vialam</td>\n",
       "      <td>78.0</td>\n",
       "      <td>emerging</td>\n",
       "    </tr>\n",
       "    <tr>\n",
       "      <th>4</th>\n",
       "      <td>Tempin Imports</td>\n",
       "      <td>100.0</td>\n",
       "      <td>emerging</td>\n",
       "    </tr>\n",
       "  </tbody>\n",
       "</table>\n",
       "</div>"
      ],
      "text/plain": [
       "     company_name   teus   segment\n",
       "0   Quotedax Inc.    6.0  emerging\n",
       "1  Strongline Inc   30.0  emerging\n",
       "2  Strongline Ltd   50.0  emerging\n",
       "3          Vialam   78.0  emerging\n",
       "4  Tempin Imports  100.0  emerging"
      ]
     },
     "execution_count": 6,
     "metadata": {},
     "output_type": "execute_result"
    }
   ],
   "source": [
    "# create a totals view as a way to calculate and translate segment between tables\n",
    "dft = dfl.groupby('company_name').teus.sum().sort_values().reset_index()\n",
    "# call map with segment() to create new column 'segment' in dft\n",
    "dft['segment'] = dft.teus.map(segment)\n",
    "# take a loook\n",
    "dft.head()"
   ]
  },
  {
   "cell_type": "code",
   "execution_count": 7,
   "metadata": {
    "collapsed": false
   },
   "outputs": [],
   "source": [
    "# translate segment value to dfl table using dft and a call to assign.  think join\n",
    "dfl['segment'] = dfl.company_name.map(lambda x: assign(dft.set_index('company_name'),x,'segment'))"
   ]
  },
  {
   "cell_type": "code",
   "execution_count": 8,
   "metadata": {
    "collapsed": false
   },
   "outputs": [
    {
     "data": {
      "text/plain": [
       "\"\\nabove line explained:\\n# take dfl table\\n>>>   dfl. \\n#take column company name in dfl\\n>>>   company_name.\\n#map values in company name column to lambda function\\n>>>   map(lambda x:\\n# call the assign function for value x\\n>>>   assign(\\n# pass a dft indexed by company name as search table    \\n>>>   dft.set_index('company_name')\\n# pass the x value from lambda mapped from dfl\\n>>>   ,x,\\n# pass segment as the name of the column containing the value we ar interested in \\n>>>   'segment'))\\n# returns segment \\n\""
      ]
     },
     "execution_count": 8,
     "metadata": {},
     "output_type": "execute_result"
    }
   ],
   "source": [
    "'''\n",
    "above line explained:\n",
    "# take dfl table\n",
    ">>>   dfl. \n",
    "#take column company name in dfl\n",
    ">>>   company_name.\n",
    "#map values in company name column to lambda function\n",
    ">>>   map(lambda x:\n",
    "# call the assign function for value x\n",
    ">>>   assign(\n",
    "# pass a dft indexed by company name as search table    \n",
    ">>>   dft.set_index('company_name')\n",
    "# pass the x value from lambda mapped from dfl\n",
    ">>>   ,x,\n",
    "# pass segment as the name of the column containing the value we ar interested in \n",
    ">>>   'segment'))\n",
    "# returns segment \n",
    "'''\n",
    "\n"
   ]
  },
  {
   "cell_type": "code",
   "execution_count": 9,
   "metadata": {
    "collapsed": false
   },
   "outputs": [],
   "source": [
    "# create a month column on dfl, used map with the datetime object \n",
    "# in dfl date column and asked for the month portion of that datetime object\n",
    "dfl['month'] = dfl.date.map(lambda x: x.month)"
   ]
  },
  {
   "cell_type": "markdown",
   "metadata": {},
   "source": [
    "## Dataset Issues... fixed:"
   ]
  },
  {
   "cell_type": "markdown",
   "metadata": {},
   "source": [
    "#### One unknown company name"
   ]
  },
  {
   "cell_type": "code",
   "execution_count": 10,
   "metadata": {
    "collapsed": false,
    "scrolled": true
   },
   "outputs": [
    {
     "data": {
      "text/html": [
       "<div>\n",
       "<table border=\"1\" class=\"dataframe\">\n",
       "  <thead>\n",
       "    <tr style=\"text-align: right;\">\n",
       "      <th></th>\n",
       "      <th>company_name</th>\n",
       "      <th>date</th>\n",
       "      <th>teus</th>\n",
       "      <th>segment</th>\n",
       "      <th>month</th>\n",
       "    </tr>\n",
       "  </thead>\n",
       "  <tbody>\n",
       "    <tr>\n",
       "      <th>45</th>\n",
       "      <td>NaN</td>\n",
       "      <td>2016-06-01</td>\n",
       "      <td>995.964648</td>\n",
       "      <td>None</td>\n",
       "      <td>6.0</td>\n",
       "    </tr>\n",
       "  </tbody>\n",
       "</table>\n",
       "</div>"
      ],
      "text/plain": [
       "   company_name       date        teus segment  month\n",
       "45          NaN 2016-06-01  995.964648    None    6.0"
      ]
     },
     "execution_count": 10,
     "metadata": {},
     "output_type": "execute_result"
    }
   ],
   "source": [
    "dfl[dfl.company_name.isnull()]"
   ]
  },
  {
   "cell_type": "markdown",
   "metadata": {},
   "source": [
    "def appears to be an smb sector carier, lets take a look at those in june"
   ]
  },
  {
   "cell_type": "code",
   "execution_count": 11,
   "metadata": {
    "collapsed": false
   },
   "outputs": [
    {
     "name": "stdout",
     "output_type": "stream",
     "text": [
      "month 6: \n",
      "\t mean: 487.15006417071356 \n",
      "\t median: 502.0581972083369\n",
      "\t min: 40.732086586339086\n",
      "\t max: 967.0210690841423\n",
      "\t accross 18 obs.\n"
     ]
    }
   ],
   "source": [
    "mean = dfl.query(\"month==6 & segment=='smb'\").teus.mean()\n",
    "med = dfl.query(\"month==6 & segment=='smb'\").teus.median()\n",
    "obs = dfl.query(\"month==6 & segment=='smb'\").teus.count()\n",
    "mini = dfl.query(\"month==6 & segment=='smb'\").teus.min()\n",
    "maxi = dfl.query(\"month==6 & segment=='smb'\").teus.max()\n",
    "print(\"month 6: \\n\\t mean: {} \\n\\t median: {}\\n\\t min: {}\\n\\t max: {}\\n\\t accross {} obs.\".format(mean,med,mini,maxi,obs))"
   ]
  },
  {
   "cell_type": "markdown",
   "metadata": {},
   "source": [
    "that would be the highest... what companies on our contacts do we not have observations for?"
   ]
  },
  {
   "cell_type": "code",
   "execution_count": 12,
   "metadata": {
    "collapsed": false
   },
   "outputs": [
    {
     "data": {
      "text/plain": [
       "{'Randax Wear', 'Roundlex'}"
      ]
     },
     "execution_count": 12,
     "metadata": {},
     "output_type": "execute_result"
    }
   ],
   "source": [
    "contacts = set(dfc.company)\n",
    "obs = set(dfl.company_name)\n",
    "{x for x in contacts if x not in obs}\n"
   ]
  },
  {
   "cell_type": "markdown",
   "metadata": {},
   "source": [
    "maybe we have more contacts for one,  that could explain the existence of the data "
   ]
  },
  {
   "cell_type": "code",
   "execution_count": 13,
   "metadata": {
    "collapsed": false
   },
   "outputs": [
    {
     "data": {
      "text/plain": [
       "(1, 1)"
      ]
     },
     "execution_count": 13,
     "metadata": {},
     "output_type": "execute_result"
    }
   ],
   "source": [
    "dfc[dfc.company == 'Randax Wear'].name.count(), dfc[dfc.company == 'Roundlex'].name.count()"
   ]
  },
  {
   "cell_type": "markdown",
   "metadata": {},
   "source": [
    " yee looks as though we don't have enough to attribute this data point  \n",
    " as it's already something of an outlier, it seems the most reasonable move to drop it  \n",
    "we'll take care of that later after we've worked on  any other missing values"
   ]
  },
  {
   "cell_type": "markdown",
   "metadata": {},
   "source": [
    "#### Four observations with no dates,  need to fill those in"
   ]
  },
  {
   "cell_type": "code",
   "execution_count": 14,
   "metadata": {
    "collapsed": false,
    "scrolled": false
   },
   "outputs": [
    {
     "data": {
      "text/html": [
       "<div>\n",
       "<table border=\"1\" class=\"dataframe\">\n",
       "  <thead>\n",
       "    <tr style=\"text-align: right;\">\n",
       "      <th></th>\n",
       "      <th>company_name</th>\n",
       "      <th>date</th>\n",
       "      <th>teus</th>\n",
       "      <th>segment</th>\n",
       "      <th>month</th>\n",
       "    </tr>\n",
       "  </thead>\n",
       "  <tbody>\n",
       "    <tr>\n",
       "      <th>5</th>\n",
       "      <td>TouchCone Systems</td>\n",
       "      <td>NaT</td>\n",
       "      <td>506.895500</td>\n",
       "      <td>smb</td>\n",
       "      <td>NaN</td>\n",
       "    </tr>\n",
       "    <tr>\n",
       "      <th>29</th>\n",
       "      <td>TouchCone Systems</td>\n",
       "      <td>NaT</td>\n",
       "      <td>638.608723</td>\n",
       "      <td>smb</td>\n",
       "      <td>NaN</td>\n",
       "    </tr>\n",
       "    <tr>\n",
       "      <th>71</th>\n",
       "      <td>Quotedax Inc.</td>\n",
       "      <td>NaT</td>\n",
       "      <td>6.000000</td>\n",
       "      <td>emerging</td>\n",
       "      <td>NaN</td>\n",
       "    </tr>\n",
       "    <tr>\n",
       "      <th>139</th>\n",
       "      <td>TouchCone Systems</td>\n",
       "      <td>NaT</td>\n",
       "      <td>169.366887</td>\n",
       "      <td>smb</td>\n",
       "      <td>NaN</td>\n",
       "    </tr>\n",
       "  </tbody>\n",
       "</table>\n",
       "</div>"
      ],
      "text/plain": [
       "          company_name date        teus   segment  month\n",
       "5    TouchCone Systems  NaT  506.895500       smb    NaN\n",
       "29   TouchCone Systems  NaT  638.608723       smb    NaN\n",
       "71       Quotedax Inc.  NaT    6.000000  emerging    NaN\n",
       "139  TouchCone Systems  NaT  169.366887       smb    NaN"
      ]
     },
     "execution_count": 14,
     "metadata": {},
     "output_type": "execute_result"
    }
   ],
   "source": [
    "dfl[dfl.date.isnull()]"
   ]
  },
  {
   "cell_type": "code",
   "execution_count": 15,
   "metadata": {
    "collapsed": false
   },
   "outputs": [
    {
     "data": {
      "text/html": [
       "<div>\n",
       "<table border=\"1\" class=\"dataframe\">\n",
       "  <thead>\n",
       "    <tr style=\"text-align: right;\">\n",
       "      <th></th>\n",
       "      <th>company_name</th>\n",
       "      <th>date</th>\n",
       "      <th>teus</th>\n",
       "      <th>segment</th>\n",
       "      <th>month</th>\n",
       "    </tr>\n",
       "  </thead>\n",
       "  <tbody>\n",
       "    <tr>\n",
       "      <th>5</th>\n",
       "      <td>TouchCone Systems</td>\n",
       "      <td>NaT</td>\n",
       "      <td>506.895500</td>\n",
       "      <td>smb</td>\n",
       "      <td>NaN</td>\n",
       "    </tr>\n",
       "    <tr>\n",
       "      <th>29</th>\n",
       "      <td>TouchCone Systems</td>\n",
       "      <td>NaT</td>\n",
       "      <td>638.608723</td>\n",
       "      <td>smb</td>\n",
       "      <td>NaN</td>\n",
       "    </tr>\n",
       "    <tr>\n",
       "      <th>57</th>\n",
       "      <td>TouchCone Systems</td>\n",
       "      <td>2016-08-01</td>\n",
       "      <td>485.226351</td>\n",
       "      <td>smb</td>\n",
       "      <td>8.0</td>\n",
       "    </tr>\n",
       "    <tr>\n",
       "      <th>96</th>\n",
       "      <td>TouchCone Systems</td>\n",
       "      <td>2016-02-01</td>\n",
       "      <td>39.188439</td>\n",
       "      <td>smb</td>\n",
       "      <td>2.0</td>\n",
       "    </tr>\n",
       "    <tr>\n",
       "      <th>136</th>\n",
       "      <td>TouchCone Systems</td>\n",
       "      <td>2016-01-01</td>\n",
       "      <td>418.328477</td>\n",
       "      <td>smb</td>\n",
       "      <td>1.0</td>\n",
       "    </tr>\n",
       "    <tr>\n",
       "      <th>139</th>\n",
       "      <td>TouchCone Systems</td>\n",
       "      <td>NaT</td>\n",
       "      <td>169.366887</td>\n",
       "      <td>smb</td>\n",
       "      <td>NaN</td>\n",
       "    </tr>\n",
       "    <tr>\n",
       "      <th>186</th>\n",
       "      <td>TouchCone Systems</td>\n",
       "      <td>2016-06-01</td>\n",
       "      <td>40.732087</td>\n",
       "      <td>smb</td>\n",
       "      <td>6.0</td>\n",
       "    </tr>\n",
       "    <tr>\n",
       "      <th>196</th>\n",
       "      <td>TouchCone Systems</td>\n",
       "      <td>2016-07-01</td>\n",
       "      <td>884.364022</td>\n",
       "      <td>smb</td>\n",
       "      <td>7.0</td>\n",
       "    </tr>\n",
       "  </tbody>\n",
       "</table>\n",
       "</div>"
      ],
      "text/plain": [
       "          company_name       date        teus segment  month\n",
       "5    TouchCone Systems        NaT  506.895500     smb    NaN\n",
       "29   TouchCone Systems        NaT  638.608723     smb    NaN\n",
       "57   TouchCone Systems 2016-08-01  485.226351     smb    8.0\n",
       "96   TouchCone Systems 2016-02-01   39.188439     smb    2.0\n",
       "136  TouchCone Systems 2016-01-01  418.328477     smb    1.0\n",
       "139  TouchCone Systems        NaT  169.366887     smb    NaN\n",
       "186  TouchCone Systems 2016-06-01   40.732087     smb    6.0\n",
       "196  TouchCone Systems 2016-07-01  884.364022     smb    7.0"
      ]
     },
     "execution_count": 15,
     "metadata": {},
     "output_type": "execute_result"
    }
   ],
   "source": [
    "# so we are missing months 3,4,5\n",
    "dfl[dfl.company_name == 'TouchCone Systems']"
   ]
  },
  {
   "cell_type": "markdown",
   "metadata": {},
   "source": [
    " first lets look at the segment mean/median"
   ]
  },
  {
   "cell_type": "code",
   "execution_count": 16,
   "metadata": {
    "collapsed": false,
    "scrolled": true
   },
   "outputs": [
    {
     "name": "stdout",
     "output_type": "stream",
     "text": [
      "  sector: smb\n",
      "month 3: \n",
      "\t mean: 384.5813237274911 \n",
      "\t median: 405.294087451871\n",
      "\n",
      "month 4: \n",
      "\t mean: 525.8236786822404 \n",
      "\t median: 550.2889874958003\n",
      "\n",
      "month 5: \n",
      "\t mean: 451.01694583014415 \n",
      "\t median: 478.9291006175418\n",
      "\n",
      "  sector: emerging\n",
      "month 3: \n",
      "\t mean: 53.4 \n",
      "\t median: 2.0\n",
      "\n",
      "month 4: \n",
      "\t mean: 25.2 \n",
      "\t median: 10.0\n",
      "\n",
      "month 5: \n",
      "\t mean: 13.833333333333334 \n",
      "\t median: 10.0\n",
      "\n"
     ]
    }
   ],
   "source": [
    "for s in ['smb', 'emerging']:\n",
    "    print('  sector: {}'.format(s))\n",
    "    for n in [3,4,5]:\n",
    "        mean = dfl.query(\"month=={} & segment=='{}'\".format(n,s)).teus.mean()\n",
    "        med = dfl.query(\"month=={} & segment=='{}'\".format(n,s)).teus.median()\n",
    "        print(\"month {}: \\n\\t mean: {} \\n\\t median: {}\\n\".format(n,mean,med))"
   ]
  },
  {
   "cell_type": "markdown",
   "metadata": {},
   "source": [
    " looks like the ranks from low to high are 3,5,4  \n",
    " now lets see what we have for touch cone"
   ]
  },
  {
   "cell_type": "code",
   "execution_count": 17,
   "metadata": {
    "collapsed": false,
    "scrolled": false
   },
   "outputs": [
    {
     "data": {
      "text/html": [
       "<div>\n",
       "<table border=\"1\" class=\"dataframe\">\n",
       "  <thead>\n",
       "    <tr style=\"text-align: right;\">\n",
       "      <th></th>\n",
       "      <th>company_name</th>\n",
       "      <th>date</th>\n",
       "      <th>teus</th>\n",
       "      <th>segment</th>\n",
       "      <th>month</th>\n",
       "    </tr>\n",
       "  </thead>\n",
       "  <tbody>\n",
       "    <tr>\n",
       "      <th>5</th>\n",
       "      <td>TouchCone Systems</td>\n",
       "      <td>NaT</td>\n",
       "      <td>506.895500</td>\n",
       "      <td>smb</td>\n",
       "      <td>NaN</td>\n",
       "    </tr>\n",
       "    <tr>\n",
       "      <th>29</th>\n",
       "      <td>TouchCone Systems</td>\n",
       "      <td>NaT</td>\n",
       "      <td>638.608723</td>\n",
       "      <td>smb</td>\n",
       "      <td>NaN</td>\n",
       "    </tr>\n",
       "    <tr>\n",
       "      <th>139</th>\n",
       "      <td>TouchCone Systems</td>\n",
       "      <td>NaT</td>\n",
       "      <td>169.366887</td>\n",
       "      <td>smb</td>\n",
       "      <td>NaN</td>\n",
       "    </tr>\n",
       "  </tbody>\n",
       "</table>\n",
       "</div>"
      ],
      "text/plain": [
       "          company_name date        teus segment  month\n",
       "5    TouchCone Systems  NaT  506.895500     smb    NaN\n",
       "29   TouchCone Systems  NaT  638.608723     smb    NaN\n",
       "139  TouchCone Systems  NaT  169.366887     smb    NaN"
      ]
     },
     "execution_count": 17,
     "metadata": {},
     "output_type": "execute_result"
    }
   ],
   "source": [
    "dfl[(dfl.company_name == 'TouchCone Systems')&(dfl.date.isnull())]"
   ]
  },
  {
   "cell_type": "markdown",
   "metadata": {},
   "source": [
    "seems reasonable to follow in step with the ranks for the smb sector  \n",
    " so loc139 will be march, loc29 april, loc5 may"
   ]
  },
  {
   "cell_type": "code",
   "execution_count": 18,
   "metadata": {
    "collapsed": false,
    "scrolled": false
   },
   "outputs": [],
   "source": [
    "dfl.loc[139,'date']= pd.Timestamp('2016-03-01')\n",
    "dfl.loc[29,'date']= pd.Timestamp('2016-04-01')\n",
    "dfl.loc[5,'date'] = pd.Timestamp('2016-05-01')"
   ]
  },
  {
   "cell_type": "code",
   "execution_count": 19,
   "metadata": {
    "collapsed": false,
    "scrolled": true
   },
   "outputs": [
    {
     "data": {
      "text/html": [
       "<div>\n",
       "<table border=\"1\" class=\"dataframe\">\n",
       "  <thead>\n",
       "    <tr style=\"text-align: right;\">\n",
       "      <th></th>\n",
       "      <th>company_name</th>\n",
       "      <th>date</th>\n",
       "      <th>teus</th>\n",
       "      <th>segment</th>\n",
       "      <th>month</th>\n",
       "    </tr>\n",
       "  </thead>\n",
       "  <tbody>\n",
       "    <tr>\n",
       "      <th>5</th>\n",
       "      <td>TouchCone Systems</td>\n",
       "      <td>2016-05-01</td>\n",
       "      <td>506.895500</td>\n",
       "      <td>smb</td>\n",
       "      <td>NaN</td>\n",
       "    </tr>\n",
       "    <tr>\n",
       "      <th>29</th>\n",
       "      <td>TouchCone Systems</td>\n",
       "      <td>2016-04-01</td>\n",
       "      <td>638.608723</td>\n",
       "      <td>smb</td>\n",
       "      <td>NaN</td>\n",
       "    </tr>\n",
       "    <tr>\n",
       "      <th>57</th>\n",
       "      <td>TouchCone Systems</td>\n",
       "      <td>2016-08-01</td>\n",
       "      <td>485.226351</td>\n",
       "      <td>smb</td>\n",
       "      <td>8.0</td>\n",
       "    </tr>\n",
       "    <tr>\n",
       "      <th>96</th>\n",
       "      <td>TouchCone Systems</td>\n",
       "      <td>2016-02-01</td>\n",
       "      <td>39.188439</td>\n",
       "      <td>smb</td>\n",
       "      <td>2.0</td>\n",
       "    </tr>\n",
       "    <tr>\n",
       "      <th>136</th>\n",
       "      <td>TouchCone Systems</td>\n",
       "      <td>2016-01-01</td>\n",
       "      <td>418.328477</td>\n",
       "      <td>smb</td>\n",
       "      <td>1.0</td>\n",
       "    </tr>\n",
       "    <tr>\n",
       "      <th>139</th>\n",
       "      <td>TouchCone Systems</td>\n",
       "      <td>2016-03-01</td>\n",
       "      <td>169.366887</td>\n",
       "      <td>smb</td>\n",
       "      <td>NaN</td>\n",
       "    </tr>\n",
       "    <tr>\n",
       "      <th>186</th>\n",
       "      <td>TouchCone Systems</td>\n",
       "      <td>2016-06-01</td>\n",
       "      <td>40.732087</td>\n",
       "      <td>smb</td>\n",
       "      <td>6.0</td>\n",
       "    </tr>\n",
       "    <tr>\n",
       "      <th>196</th>\n",
       "      <td>TouchCone Systems</td>\n",
       "      <td>2016-07-01</td>\n",
       "      <td>884.364022</td>\n",
       "      <td>smb</td>\n",
       "      <td>7.0</td>\n",
       "    </tr>\n",
       "  </tbody>\n",
       "</table>\n",
       "</div>"
      ],
      "text/plain": [
       "          company_name       date        teus segment  month\n",
       "5    TouchCone Systems 2016-05-01  506.895500     smb    NaN\n",
       "29   TouchCone Systems 2016-04-01  638.608723     smb    NaN\n",
       "57   TouchCone Systems 2016-08-01  485.226351     smb    8.0\n",
       "96   TouchCone Systems 2016-02-01   39.188439     smb    2.0\n",
       "136  TouchCone Systems 2016-01-01  418.328477     smb    1.0\n",
       "139  TouchCone Systems 2016-03-01  169.366887     smb    NaN\n",
       "186  TouchCone Systems 2016-06-01   40.732087     smb    6.0\n",
       "196  TouchCone Systems 2016-07-01  884.364022     smb    7.0"
      ]
     },
     "execution_count": 19,
     "metadata": {},
     "output_type": "execute_result"
    }
   ],
   "source": [
    "# touchcone is now complete\n",
    "dfl[(dfl.company_name == 'TouchCone Systems')]"
   ]
  },
  {
   "cell_type": "code",
   "execution_count": 20,
   "metadata": {
    "collapsed": false
   },
   "outputs": [
    {
     "data": {
      "text/html": [
       "<div>\n",
       "<table border=\"1\" class=\"dataframe\">\n",
       "  <thead>\n",
       "    <tr style=\"text-align: right;\">\n",
       "      <th></th>\n",
       "      <th>company_name</th>\n",
       "      <th>date</th>\n",
       "      <th>teus</th>\n",
       "      <th>segment</th>\n",
       "      <th>month</th>\n",
       "    </tr>\n",
       "  </thead>\n",
       "  <tbody>\n",
       "    <tr>\n",
       "      <th>71</th>\n",
       "      <td>Quotedax Inc.</td>\n",
       "      <td>NaT</td>\n",
       "      <td>6.0</td>\n",
       "      <td>emerging</td>\n",
       "      <td>NaN</td>\n",
       "    </tr>\n",
       "  </tbody>\n",
       "</table>\n",
       "</div>"
      ],
      "text/plain": [
       "     company_name date  teus   segment  month\n",
       "71  Quotedax Inc.  NaT   6.0  emerging    NaN"
      ]
     },
     "execution_count": 20,
     "metadata": {},
     "output_type": "execute_result"
    }
   ],
   "source": [
    "# quotedax is still a problem\n",
    "dfl[dfl.date.isnull()]"
   ]
  },
  {
   "cell_type": "code",
   "execution_count": 21,
   "metadata": {
    "collapsed": false,
    "scrolled": true
   },
   "outputs": [
    {
     "data": {
      "text/html": [
       "<div>\n",
       "<table border=\"1\" class=\"dataframe\">\n",
       "  <thead>\n",
       "    <tr style=\"text-align: right;\">\n",
       "      <th></th>\n",
       "      <th>company_name</th>\n",
       "      <th>date</th>\n",
       "      <th>teus</th>\n",
       "      <th>segment</th>\n",
       "      <th>month</th>\n",
       "    </tr>\n",
       "  </thead>\n",
       "  <tbody>\n",
       "    <tr>\n",
       "      <th>71</th>\n",
       "      <td>Quotedax Inc.</td>\n",
       "      <td>NaT</td>\n",
       "      <td>6.0</td>\n",
       "      <td>emerging</td>\n",
       "      <td>NaN</td>\n",
       "    </tr>\n",
       "  </tbody>\n",
       "</table>\n",
       "</div>"
      ],
      "text/plain": [
       "     company_name date  teus   segment  month\n",
       "71  Quotedax Inc.  NaT   6.0  emerging    NaN"
      ]
     },
     "execution_count": 21,
     "metadata": {},
     "output_type": "execute_result"
    }
   ],
   "source": [
    "# only one observation can we imput the date?\n",
    "dfl[dfl.company_name =='Quotedax Inc.']"
   ]
  },
  {
   "cell_type": "markdown",
   "metadata": {},
   "source": [
    "First we'll check some stats"
   ]
  },
  {
   "cell_type": "code",
   "execution_count": 22,
   "metadata": {
    "collapsed": false,
    "scrolled": true
   },
   "outputs": [
    {
     "name": "stdout",
     "output_type": "stream",
     "text": [
      "month 1: \n",
      "\t mean: 12.0 \n",
      "\t median: 10.0\n",
      "\t accross 5 obs.\n",
      "month 2: \n",
      "\t mean: 28.5 \n",
      "\t median: 7.0\n",
      "\t accross 4 obs.\n",
      "month 3: \n",
      "\t mean: 53.4 \n",
      "\t median: 2.0\n",
      "\t accross 5 obs.\n",
      "month 4: \n",
      "\t mean: 25.2 \n",
      "\t median: 10.0\n",
      "\t accross 5 obs.\n",
      "month 5: \n",
      "\t mean: 13.833333333333334 \n",
      "\t median: 10.0\n",
      "\t accross 6 obs.\n",
      "month 6: \n",
      "\t mean: 20.666666666666668 \n",
      "\t median: 20.0\n",
      "\t accross 6 obs.\n",
      "month 7: \n",
      "\t mean: 28.0 \n",
      "\t median: 15.0\n",
      "\t accross 6 obs.\n",
      "month 8: \n",
      "\t mean: 38.333333333333336 \n",
      "\t median: 20.0\n",
      "\t accross 6 obs.\n"
     ]
    }
   ],
   "source": [
    "# stats for the emerging markets accross all months\n",
    "for n in range(1,9):\n",
    "    mean = dfl.query(\"month=={} & segment=='emerging'\".format(n)).teus.mean()\n",
    "    med = dfl.query(\"month=={} & segment=='emerging'\".format(n)).teus.median()\n",
    "    obs = dfl.query(\"month=={} & segment=='emerging'\".format(n)).teus.count()\n",
    "    print(\"month {}: \\n\\t mean: {} \\n\\t median: {}\\n\\t accross {} obs.\".format(n,mean,med,obs))\n",
    "# looks like jan/feb might be our most reasonable"
   ]
  },
  {
   "cell_type": "markdown",
   "metadata": {},
   "source": [
    "let's drill down a little deeper"
   ]
  },
  {
   "cell_type": "code",
   "execution_count": 23,
   "metadata": {
    "collapsed": false,
    "scrolled": true
   },
   "outputs": [
    {
     "data": {
      "text/plain": [
       "(93      0.0\n",
       " 97     10.0\n",
       " 112    35.0\n",
       " 150    10.0\n",
       " 175     5.0\n",
       " Name: teus, dtype: float64, 34     10.0\n",
       " 40    100.0\n",
       " 53      NaN\n",
       " 55      4.0\n",
       " 63      0.0\n",
       " Name: teus, dtype: float64)"
      ]
     },
     "execution_count": 23,
     "metadata": {},
     "output_type": "execute_result"
    }
   ],
   "source": [
    "dfl.query(\"month==1 & segment=='emerging'\").teus,dfl.query(\"month==2 & segment=='emerging'\").teus"
   ]
  },
  {
   "cell_type": "markdown",
   "metadata": {},
   "source": [
    "January seems the most reasonable fit so we'll replace it"
   ]
  },
  {
   "cell_type": "code",
   "execution_count": 24,
   "metadata": {
    "collapsed": true
   },
   "outputs": [],
   "source": [
    "dfl.loc[71,'date'] = pd.Timestamp('2016-01-01')"
   ]
  },
  {
   "cell_type": "markdown",
   "metadata": {},
   "source": [
    "double check to see we are all filled"
   ]
  },
  {
   "cell_type": "code",
   "execution_count": 25,
   "metadata": {
    "collapsed": false
   },
   "outputs": [
    {
     "data": {
      "text/plain": [
       "True"
      ]
     },
     "execution_count": 25,
     "metadata": {},
     "output_type": "execute_result"
    }
   ],
   "source": [
    "all(dfl.date.map(lambda x: pd.isnull(x))) == False"
   ]
  },
  {
   "cell_type": "markdown",
   "metadata": {},
   "source": [
    " With all those replaced we'll re-run our month column "
   ]
  },
  {
   "cell_type": "code",
   "execution_count": 26,
   "metadata": {
    "collapsed": true
   },
   "outputs": [],
   "source": [
    "dfl['month'] = dfl.date.map(lambda x: x.month)"
   ]
  },
  {
   "cell_type": "markdown",
   "metadata": {},
   "source": [
    "#### Finally we have some missing teus values,  lets work on those"
   ]
  },
  {
   "cell_type": "code",
   "execution_count": 27,
   "metadata": {
    "collapsed": false,
    "scrolled": true
   },
   "outputs": [
    {
     "data": {
      "text/html": [
       "<div>\n",
       "<table border=\"1\" class=\"dataframe\">\n",
       "  <thead>\n",
       "    <tr style=\"text-align: right;\">\n",
       "      <th></th>\n",
       "      <th>company_name</th>\n",
       "      <th>date</th>\n",
       "      <th>teus</th>\n",
       "      <th>segment</th>\n",
       "      <th>month</th>\n",
       "    </tr>\n",
       "  </thead>\n",
       "  <tbody>\n",
       "    <tr>\n",
       "      <th>16</th>\n",
       "      <td>Volt Holding Company</td>\n",
       "      <td>2016-07-01</td>\n",
       "      <td>NaN</td>\n",
       "      <td>None</td>\n",
       "      <td>7</td>\n",
       "    </tr>\n",
       "    <tr>\n",
       "      <th>39</th>\n",
       "      <td>Volt Holding Company</td>\n",
       "      <td>2016-01-01</td>\n",
       "      <td>NaN</td>\n",
       "      <td>None</td>\n",
       "      <td>1</td>\n",
       "    </tr>\n",
       "    <tr>\n",
       "      <th>50</th>\n",
       "      <td>Volt Holding Company</td>\n",
       "      <td>2016-04-01</td>\n",
       "      <td>NaN</td>\n",
       "      <td>None</td>\n",
       "      <td>4</td>\n",
       "    </tr>\n",
       "    <tr>\n",
       "      <th>53</th>\n",
       "      <td>Vialam</td>\n",
       "      <td>2016-02-01</td>\n",
       "      <td>NaN</td>\n",
       "      <td>emerging</td>\n",
       "      <td>2</td>\n",
       "    </tr>\n",
       "    <tr>\n",
       "      <th>66</th>\n",
       "      <td>Volt Holding Company</td>\n",
       "      <td>2016-03-01</td>\n",
       "      <td>NaN</td>\n",
       "      <td>None</td>\n",
       "      <td>3</td>\n",
       "    </tr>\n",
       "    <tr>\n",
       "      <th>73</th>\n",
       "      <td>Volt Holding Company</td>\n",
       "      <td>2016-02-01</td>\n",
       "      <td>NaN</td>\n",
       "      <td>None</td>\n",
       "      <td>2</td>\n",
       "    </tr>\n",
       "    <tr>\n",
       "      <th>126</th>\n",
       "      <td>Volt Holding Company</td>\n",
       "      <td>2016-06-01</td>\n",
       "      <td>NaN</td>\n",
       "      <td>None</td>\n",
       "      <td>6</td>\n",
       "    </tr>\n",
       "    <tr>\n",
       "      <th>174</th>\n",
       "      <td>Volt Holding Company</td>\n",
       "      <td>2016-05-01</td>\n",
       "      <td>NaN</td>\n",
       "      <td>None</td>\n",
       "      <td>5</td>\n",
       "    </tr>\n",
       "    <tr>\n",
       "      <th>181</th>\n",
       "      <td>Bigfan Networks</td>\n",
       "      <td>2016-05-01</td>\n",
       "      <td>NaN</td>\n",
       "      <td>smb</td>\n",
       "      <td>5</td>\n",
       "    </tr>\n",
       "    <tr>\n",
       "      <th>190</th>\n",
       "      <td>Volt Holding Company</td>\n",
       "      <td>2016-08-01</td>\n",
       "      <td>NaN</td>\n",
       "      <td>None</td>\n",
       "      <td>8</td>\n",
       "    </tr>\n",
       "    <tr>\n",
       "      <th>200</th>\n",
       "      <td>Generic Trading Company</td>\n",
       "      <td>2016-03-01</td>\n",
       "      <td>NaN</td>\n",
       "      <td>smb</td>\n",
       "      <td>3</td>\n",
       "    </tr>\n",
       "  </tbody>\n",
       "</table>\n",
       "</div>"
      ],
      "text/plain": [
       "                company_name       date  teus   segment  month\n",
       "16      Volt Holding Company 2016-07-01   NaN      None      7\n",
       "39      Volt Holding Company 2016-01-01   NaN      None      1\n",
       "50      Volt Holding Company 2016-04-01   NaN      None      4\n",
       "53                    Vialam 2016-02-01   NaN  emerging      2\n",
       "66      Volt Holding Company 2016-03-01   NaN      None      3\n",
       "73      Volt Holding Company 2016-02-01   NaN      None      2\n",
       "126     Volt Holding Company 2016-06-01   NaN      None      6\n",
       "174     Volt Holding Company 2016-05-01   NaN      None      5\n",
       "181          Bigfan Networks 2016-05-01   NaN       smb      5\n",
       "190     Volt Holding Company 2016-08-01   NaN      None      8\n",
       "200  Generic Trading Company 2016-03-01   NaN       smb      3"
      ]
     },
     "execution_count": 27,
     "metadata": {},
     "output_type": "execute_result"
    }
   ],
   "source": [
    "dfl[dfl.teus.isnull()]"
   ]
  },
  {
   "cell_type": "markdown",
   "metadata": {},
   "source": [
    " volt is doing nothing for us, that's probably out,  let's look at the others and try to impute"
   ]
  },
  {
   "cell_type": "code",
   "execution_count": 28,
   "metadata": {
    "collapsed": false
   },
   "outputs": [],
   "source": [
    "colist = ['Vialam', 'Bigfan Networks',\n",
    "       'Generic Trading Company']"
   ]
  },
  {
   "cell_type": "code",
   "execution_count": 29,
   "metadata": {
    "collapsed": false
   },
   "outputs": [
    {
     "data": {
      "text/html": [
       "<div>\n",
       "<table border=\"1\" class=\"dataframe\">\n",
       "  <thead>\n",
       "    <tr style=\"text-align: right;\">\n",
       "      <th></th>\n",
       "      <th>company_name</th>\n",
       "      <th>date</th>\n",
       "      <th>teus</th>\n",
       "      <th>segment</th>\n",
       "      <th>month</th>\n",
       "    </tr>\n",
       "  </thead>\n",
       "  <tbody>\n",
       "    <tr>\n",
       "      <th>6</th>\n",
       "      <td>Vialam</td>\n",
       "      <td>2016-03-01</td>\n",
       "      <td>0.0</td>\n",
       "      <td>emerging</td>\n",
       "      <td>3</td>\n",
       "    </tr>\n",
       "    <tr>\n",
       "      <th>31</th>\n",
       "      <td>Vialam</td>\n",
       "      <td>2016-08-01</td>\n",
       "      <td>30.0</td>\n",
       "      <td>emerging</td>\n",
       "      <td>8</td>\n",
       "    </tr>\n",
       "    <tr>\n",
       "      <th>47</th>\n",
       "      <td>Vialam</td>\n",
       "      <td>2016-05-01</td>\n",
       "      <td>3.0</td>\n",
       "      <td>emerging</td>\n",
       "      <td>5</td>\n",
       "    </tr>\n",
       "    <tr>\n",
       "      <th>53</th>\n",
       "      <td>Vialam</td>\n",
       "      <td>2016-02-01</td>\n",
       "      <td>NaN</td>\n",
       "      <td>emerging</td>\n",
       "      <td>2</td>\n",
       "    </tr>\n",
       "    <tr>\n",
       "      <th>77</th>\n",
       "      <td>Vialam</td>\n",
       "      <td>2016-07-01</td>\n",
       "      <td>20.0</td>\n",
       "      <td>emerging</td>\n",
       "      <td>7</td>\n",
       "    </tr>\n",
       "    <tr>\n",
       "      <th>104</th>\n",
       "      <td>Vialam</td>\n",
       "      <td>2016-04-01</td>\n",
       "      <td>0.0</td>\n",
       "      <td>emerging</td>\n",
       "      <td>4</td>\n",
       "    </tr>\n",
       "    <tr>\n",
       "      <th>150</th>\n",
       "      <td>Vialam</td>\n",
       "      <td>2016-01-01</td>\n",
       "      <td>10.0</td>\n",
       "      <td>emerging</td>\n",
       "      <td>1</td>\n",
       "    </tr>\n",
       "    <tr>\n",
       "      <th>184</th>\n",
       "      <td>Vialam</td>\n",
       "      <td>2016-06-01</td>\n",
       "      <td>15.0</td>\n",
       "      <td>emerging</td>\n",
       "      <td>6</td>\n",
       "    </tr>\n",
       "  </tbody>\n",
       "</table>\n",
       "</div>"
      ],
      "text/plain": [
       "    company_name       date  teus   segment  month\n",
       "6         Vialam 2016-03-01   0.0  emerging      3\n",
       "31        Vialam 2016-08-01  30.0  emerging      8\n",
       "47        Vialam 2016-05-01   3.0  emerging      5\n",
       "53        Vialam 2016-02-01   NaN  emerging      2\n",
       "77        Vialam 2016-07-01  20.0  emerging      7\n",
       "104       Vialam 2016-04-01   0.0  emerging      4\n",
       "150       Vialam 2016-01-01  10.0  emerging      1\n",
       "184       Vialam 2016-06-01  15.0  emerging      6"
      ]
     },
     "execution_count": 29,
     "metadata": {},
     "output_type": "execute_result"
    }
   ],
   "source": [
    "# vialam observations\n",
    "dfl[dfl.company_name == colist[0]]"
   ]
  },
  {
   "cell_type": "code",
   "execution_count": 30,
   "metadata": {
    "collapsed": false,
    "scrolled": true
   },
   "outputs": [
    {
     "data": {
      "text/html": [
       "<div>\n",
       "<table border=\"1\" class=\"dataframe\">\n",
       "  <thead>\n",
       "    <tr style=\"text-align: right;\">\n",
       "      <th></th>\n",
       "      <th>company_name</th>\n",
       "      <th>date</th>\n",
       "      <th>teus</th>\n",
       "      <th>segment</th>\n",
       "      <th>month</th>\n",
       "    </tr>\n",
       "  </thead>\n",
       "  <tbody>\n",
       "    <tr>\n",
       "      <th>25</th>\n",
       "      <td>Bigfan Networks</td>\n",
       "      <td>2016-03-01</td>\n",
       "      <td>287.986670</td>\n",
       "      <td>smb</td>\n",
       "      <td>3</td>\n",
       "    </tr>\n",
       "    <tr>\n",
       "      <th>26</th>\n",
       "      <td>Bigfan Networks</td>\n",
       "      <td>2016-02-01</td>\n",
       "      <td>933.104624</td>\n",
       "      <td>smb</td>\n",
       "      <td>2</td>\n",
       "    </tr>\n",
       "    <tr>\n",
       "      <th>111</th>\n",
       "      <td>Bigfan Networks</td>\n",
       "      <td>2016-07-01</td>\n",
       "      <td>86.613424</td>\n",
       "      <td>smb</td>\n",
       "      <td>7</td>\n",
       "    </tr>\n",
       "    <tr>\n",
       "      <th>116</th>\n",
       "      <td>Bigfan Networks</td>\n",
       "      <td>2016-01-01</td>\n",
       "      <td>467.928134</td>\n",
       "      <td>smb</td>\n",
       "      <td>1</td>\n",
       "    </tr>\n",
       "    <tr>\n",
       "      <th>117</th>\n",
       "      <td>Bigfan Networks</td>\n",
       "      <td>2016-04-01</td>\n",
       "      <td>747.129698</td>\n",
       "      <td>smb</td>\n",
       "      <td>4</td>\n",
       "    </tr>\n",
       "    <tr>\n",
       "      <th>127</th>\n",
       "      <td>Bigfan Networks</td>\n",
       "      <td>2016-08-01</td>\n",
       "      <td>475.666162</td>\n",
       "      <td>smb</td>\n",
       "      <td>8</td>\n",
       "    </tr>\n",
       "    <tr>\n",
       "      <th>162</th>\n",
       "      <td>Bigfan Networks</td>\n",
       "      <td>2016-06-01</td>\n",
       "      <td>243.944781</td>\n",
       "      <td>smb</td>\n",
       "      <td>6</td>\n",
       "    </tr>\n",
       "    <tr>\n",
       "      <th>181</th>\n",
       "      <td>Bigfan Networks</td>\n",
       "      <td>2016-05-01</td>\n",
       "      <td>NaN</td>\n",
       "      <td>smb</td>\n",
       "      <td>5</td>\n",
       "    </tr>\n",
       "  </tbody>\n",
       "</table>\n",
       "</div>"
      ],
      "text/plain": [
       "        company_name       date        teus segment  month\n",
       "25   Bigfan Networks 2016-03-01  287.986670     smb      3\n",
       "26   Bigfan Networks 2016-02-01  933.104624     smb      2\n",
       "111  Bigfan Networks 2016-07-01   86.613424     smb      7\n",
       "116  Bigfan Networks 2016-01-01  467.928134     smb      1\n",
       "117  Bigfan Networks 2016-04-01  747.129698     smb      4\n",
       "127  Bigfan Networks 2016-08-01  475.666162     smb      8\n",
       "162  Bigfan Networks 2016-06-01  243.944781     smb      6\n",
       "181  Bigfan Networks 2016-05-01         NaN     smb      5"
      ]
     },
     "execution_count": 30,
     "metadata": {},
     "output_type": "execute_result"
    }
   ],
   "source": [
    "# Bigfan Networks observations\n",
    "dfl[dfl.company_name == colist[1]]"
   ]
  },
  {
   "cell_type": "code",
   "execution_count": 31,
   "metadata": {
    "collapsed": false
   },
   "outputs": [
    {
     "data": {
      "text/html": [
       "<div>\n",
       "<table border=\"1\" class=\"dataframe\">\n",
       "  <thead>\n",
       "    <tr style=\"text-align: right;\">\n",
       "      <th></th>\n",
       "      <th>company_name</th>\n",
       "      <th>date</th>\n",
       "      <th>teus</th>\n",
       "      <th>segment</th>\n",
       "      <th>month</th>\n",
       "    </tr>\n",
       "  </thead>\n",
       "  <tbody>\n",
       "    <tr>\n",
       "      <th>19</th>\n",
       "      <td>Generic Trading Company</td>\n",
       "      <td>2016-06-01</td>\n",
       "      <td>504.101360</td>\n",
       "      <td>smb</td>\n",
       "      <td>6</td>\n",
       "    </tr>\n",
       "    <tr>\n",
       "      <th>27</th>\n",
       "      <td>Generic Trading Company</td>\n",
       "      <td>2016-02-01</td>\n",
       "      <td>113.513941</td>\n",
       "      <td>smb</td>\n",
       "      <td>2</td>\n",
       "    </tr>\n",
       "    <tr>\n",
       "      <th>81</th>\n",
       "      <td>Generic Trading Company</td>\n",
       "      <td>2016-08-01</td>\n",
       "      <td>790.948970</td>\n",
       "      <td>smb</td>\n",
       "      <td>8</td>\n",
       "    </tr>\n",
       "    <tr>\n",
       "      <th>92</th>\n",
       "      <td>Generic Trading Company</td>\n",
       "      <td>2016-07-01</td>\n",
       "      <td>887.900924</td>\n",
       "      <td>smb</td>\n",
       "      <td>7</td>\n",
       "    </tr>\n",
       "    <tr>\n",
       "      <th>169</th>\n",
       "      <td>Generic Trading Company</td>\n",
       "      <td>2016-05-01</td>\n",
       "      <td>583.741232</td>\n",
       "      <td>smb</td>\n",
       "      <td>5</td>\n",
       "    </tr>\n",
       "    <tr>\n",
       "      <th>170</th>\n",
       "      <td>Generic Trading Company</td>\n",
       "      <td>2016-01-01</td>\n",
       "      <td>682.839884</td>\n",
       "      <td>smb</td>\n",
       "      <td>1</td>\n",
       "    </tr>\n",
       "    <tr>\n",
       "      <th>179</th>\n",
       "      <td>Generic Trading Company</td>\n",
       "      <td>2016-04-01</td>\n",
       "      <td>844.295927</td>\n",
       "      <td>smb</td>\n",
       "      <td>4</td>\n",
       "    </tr>\n",
       "    <tr>\n",
       "      <th>200</th>\n",
       "      <td>Generic Trading Company</td>\n",
       "      <td>2016-03-01</td>\n",
       "      <td>NaN</td>\n",
       "      <td>smb</td>\n",
       "      <td>3</td>\n",
       "    </tr>\n",
       "  </tbody>\n",
       "</table>\n",
       "</div>"
      ],
      "text/plain": [
       "                company_name       date        teus segment  month\n",
       "19   Generic Trading Company 2016-06-01  504.101360     smb      6\n",
       "27   Generic Trading Company 2016-02-01  113.513941     smb      2\n",
       "81   Generic Trading Company 2016-08-01  790.948970     smb      8\n",
       "92   Generic Trading Company 2016-07-01  887.900924     smb      7\n",
       "169  Generic Trading Company 2016-05-01  583.741232     smb      5\n",
       "170  Generic Trading Company 2016-01-01  682.839884     smb      1\n",
       "179  Generic Trading Company 2016-04-01  844.295927     smb      4\n",
       "200  Generic Trading Company 2016-03-01         NaN     smb      3"
      ]
     },
     "execution_count": 31,
     "metadata": {},
     "output_type": "execute_result"
    }
   ],
   "source": [
    "# Generic Trading Company observations\n",
    "dfl[dfl.company_name == colist[2]]"
   ]
  },
  {
   "cell_type": "markdown",
   "metadata": {},
   "source": [
    "Allright we have two smb's and one emerging missing one value out of 8 possible each, this we can manage, we'll start with our emerging\n",
    "\n",
    "The plan is to determin what quartile the company generally falls in across all observations, and then insert a value that is in line with the quartile for the missing month  to do that we'll define two functions,  the first will figure out the company's mean percentile accross all months, the second will call the first and use that percentile to return an imputed value based onthe teus values for the month the missing value falls in"
   ]
  },
  {
   "cell_type": "code",
   "execution_count": 32,
   "metadata": {
    "collapsed": false
   },
   "outputs": [],
   "source": [
    "from scipy.stats import percentileofscore as pos\n",
    "def per_n(co_name, segment):\n",
    "    '''\n",
    "    this will take a company name and it's segment, and it will calculate the \n",
    "    mean percentile the companies teus value falls in across all observed months\n",
    "    '''\n",
    "    scores = []\n",
    "    for n in range(1,9):\n",
    "        q = dfl.query(\"month=={} & segment=='{}'\".format(n,segment)).set_index('company_name')\n",
    "        co = q.loc['{}'.format(co_name)].teus\n",
    "        if not pd.isnull(co):\n",
    "            score = pos(a=q.teus, score=co)\n",
    "            scores.append(score)        \n",
    "    return np.mean(scores)\n",
    "\n",
    "\n",
    "def impute_teus(co_name, segment):\n",
    "    '''\n",
    "    this will take a company's name and segment, it will call the function above to \n",
    "    calculate company's mean percentile across observations, It will then search for a missing\n",
    "    teus value.  It then determins the quartile range for the month that missing value falls in \n",
    "    and it takes the company's mean percentile and imputes a value based on the months quartile\n",
    "    range\n",
    "    '''\n",
    "    quant = per_n(co_name, segment)\n",
    "    for n in range(1,9):        \n",
    "        q = dfl.query(\"month=={} & segment=='{}'\".format(n,segment)).set_index('company_name')\n",
    "        co = q.loc['{}'.format(co_name)].teus\n",
    "        if pd.isnull(co):\n",
    "            imputed = q.teus.quantile(q=quant/100)\n",
    "            return imputed"
   ]
  },
  {
   "cell_type": "markdown",
   "metadata": {},
   "source": [
    "Now that we have that, it's a breeze to fill in our missing values"
   ]
  },
  {
   "cell_type": "code",
   "execution_count": 33,
   "metadata": {
    "collapsed": false
   },
   "outputs": [],
   "source": [
    "# first Vialam\n",
    "dfl.loc[53,'teus'] = impute_teus('Vialam','emerging')"
   ]
  },
  {
   "cell_type": "code",
   "execution_count": 34,
   "metadata": {
    "collapsed": false
   },
   "outputs": [],
   "source": [
    "# bigfan\n",
    "dfl.loc[181,'teus'] = impute_teus('Bigfan Networks','smb')"
   ]
  },
  {
   "cell_type": "code",
   "execution_count": 35,
   "metadata": {
    "collapsed": true
   },
   "outputs": [],
   "source": [
    "# finally Generic Trading Company\n",
    "dfl.loc[200,'teus'] = impute_teus('Generic Trading Company','smb')"
   ]
  },
  {
   "cell_type": "code",
   "execution_count": 36,
   "metadata": {
    "collapsed": false,
    "scrolled": false
   },
   "outputs": [
    {
     "data": {
      "text/html": [
       "<div>\n",
       "<table border=\"1\" class=\"dataframe\">\n",
       "  <thead>\n",
       "    <tr style=\"text-align: right;\">\n",
       "      <th></th>\n",
       "      <th>company_name</th>\n",
       "      <th>date</th>\n",
       "      <th>teus</th>\n",
       "      <th>segment</th>\n",
       "      <th>month</th>\n",
       "    </tr>\n",
       "  </thead>\n",
       "  <tbody>\n",
       "    <tr>\n",
       "      <th>53</th>\n",
       "      <td>Vialam</td>\n",
       "      <td>2016-02-01</td>\n",
       "      <td>6.571429</td>\n",
       "      <td>emerging</td>\n",
       "      <td>2</td>\n",
       "    </tr>\n",
       "    <tr>\n",
       "      <th>181</th>\n",
       "      <td>Bigfan Networks</td>\n",
       "      <td>2016-05-01</td>\n",
       "      <td>485.167220</td>\n",
       "      <td>smb</td>\n",
       "      <td>5</td>\n",
       "    </tr>\n",
       "    <tr>\n",
       "      <th>200</th>\n",
       "      <td>Generic Trading Company</td>\n",
       "      <td>2016-03-01</td>\n",
       "      <td>581.253414</td>\n",
       "      <td>smb</td>\n",
       "      <td>3</td>\n",
       "    </tr>\n",
       "  </tbody>\n",
       "</table>\n",
       "</div>"
      ],
      "text/plain": [
       "                company_name       date        teus   segment  month\n",
       "53                    Vialam 2016-02-01    6.571429  emerging      2\n",
       "181          Bigfan Networks 2016-05-01  485.167220       smb      5\n",
       "200  Generic Trading Company 2016-03-01  581.253414       smb      3"
      ]
     },
     "execution_count": 36,
     "metadata": {},
     "output_type": "execute_result"
    }
   ],
   "source": [
    "# let's see how we did\n",
    "dfl.loc[[53,181,200]]"
   ]
  },
  {
   "cell_type": "code",
   "execution_count": 37,
   "metadata": {
    "collapsed": false,
    "scrolled": true
   },
   "outputs": [
    {
     "data": {
      "text/html": [
       "<div>\n",
       "<table border=\"1\" class=\"dataframe\">\n",
       "  <thead>\n",
       "    <tr style=\"text-align: right;\">\n",
       "      <th></th>\n",
       "      <th>company_name</th>\n",
       "      <th>date</th>\n",
       "      <th>teus</th>\n",
       "      <th>segment</th>\n",
       "      <th>month</th>\n",
       "    </tr>\n",
       "  </thead>\n",
       "  <tbody>\n",
       "    <tr>\n",
       "      <th>16</th>\n",
       "      <td>Volt Holding Company</td>\n",
       "      <td>2016-07-01</td>\n",
       "      <td>NaN</td>\n",
       "      <td>None</td>\n",
       "      <td>7</td>\n",
       "    </tr>\n",
       "    <tr>\n",
       "      <th>39</th>\n",
       "      <td>Volt Holding Company</td>\n",
       "      <td>2016-01-01</td>\n",
       "      <td>NaN</td>\n",
       "      <td>None</td>\n",
       "      <td>1</td>\n",
       "    </tr>\n",
       "    <tr>\n",
       "      <th>50</th>\n",
       "      <td>Volt Holding Company</td>\n",
       "      <td>2016-04-01</td>\n",
       "      <td>NaN</td>\n",
       "      <td>None</td>\n",
       "      <td>4</td>\n",
       "    </tr>\n",
       "    <tr>\n",
       "      <th>66</th>\n",
       "      <td>Volt Holding Company</td>\n",
       "      <td>2016-03-01</td>\n",
       "      <td>NaN</td>\n",
       "      <td>None</td>\n",
       "      <td>3</td>\n",
       "    </tr>\n",
       "    <tr>\n",
       "      <th>73</th>\n",
       "      <td>Volt Holding Company</td>\n",
       "      <td>2016-02-01</td>\n",
       "      <td>NaN</td>\n",
       "      <td>None</td>\n",
       "      <td>2</td>\n",
       "    </tr>\n",
       "    <tr>\n",
       "      <th>126</th>\n",
       "      <td>Volt Holding Company</td>\n",
       "      <td>2016-06-01</td>\n",
       "      <td>NaN</td>\n",
       "      <td>None</td>\n",
       "      <td>6</td>\n",
       "    </tr>\n",
       "    <tr>\n",
       "      <th>174</th>\n",
       "      <td>Volt Holding Company</td>\n",
       "      <td>2016-05-01</td>\n",
       "      <td>NaN</td>\n",
       "      <td>None</td>\n",
       "      <td>5</td>\n",
       "    </tr>\n",
       "    <tr>\n",
       "      <th>190</th>\n",
       "      <td>Volt Holding Company</td>\n",
       "      <td>2016-08-01</td>\n",
       "      <td>NaN</td>\n",
       "      <td>None</td>\n",
       "      <td>8</td>\n",
       "    </tr>\n",
       "  </tbody>\n",
       "</table>\n",
       "</div>"
      ],
      "text/plain": [
       "             company_name       date  teus segment  month\n",
       "16   Volt Holding Company 2016-07-01   NaN    None      7\n",
       "39   Volt Holding Company 2016-01-01   NaN    None      1\n",
       "50   Volt Holding Company 2016-04-01   NaN    None      4\n",
       "66   Volt Holding Company 2016-03-01   NaN    None      3\n",
       "73   Volt Holding Company 2016-02-01   NaN    None      2\n",
       "126  Volt Holding Company 2016-06-01   NaN    None      6\n",
       "174  Volt Holding Company 2016-05-01   NaN    None      5\n",
       "190  Volt Holding Company 2016-08-01   NaN    None      8"
      ]
     },
     "execution_count": 37,
     "metadata": {},
     "output_type": "execute_result"
    }
   ],
   "source": [
    "# now we look to see what teus values are null once again to make sure we didn't miss anything\n",
    "dfl[dfl.teus.isnull()]"
   ]
  },
  {
   "cell_type": "markdown",
   "metadata": {},
   "source": [
    "We've done it, every other missing value we have is one we can't reasonably imput or calculate.  We'll check the shape first and the drop our null values"
   ]
  },
  {
   "cell_type": "code",
   "execution_count": 38,
   "metadata": {
    "collapsed": false,
    "scrolled": false
   },
   "outputs": [
    {
     "data": {
      "text/plain": [
       "(205, 5)"
      ]
     },
     "execution_count": 38,
     "metadata": {},
     "output_type": "execute_result"
    }
   ],
   "source": [
    "# we look to see how many observations we have before dropping nulls\n",
    "dfl.shape"
   ]
  },
  {
   "cell_type": "code",
   "execution_count": 39,
   "metadata": {
    "collapsed": true
   },
   "outputs": [],
   "source": [
    "# now we drop any null values\n",
    "dfl = dfl.dropna()"
   ]
  },
  {
   "cell_type": "code",
   "execution_count": 40,
   "metadata": {
    "collapsed": false,
    "scrolled": true
   },
   "outputs": [
    {
     "data": {
      "text/plain": [
       "(196, 5)"
      ]
     },
     "execution_count": 40,
     "metadata": {},
     "output_type": "execute_result"
    }
   ],
   "source": [
    "# now we look to see haow many observations we have after the null drop\n",
    "dfl.shape\n",
    "# this shows us we got rid of 9 observations we didn't have enough info to mess with"
   ]
  },
  {
   "cell_type": "markdown",
   "metadata": {},
   "source": [
    "not too shaby, we've got a nice clean frame to work with now"
   ]
  },
  {
   "cell_type": "code",
   "execution_count": 41,
   "metadata": {
    "collapsed": false
   },
   "outputs": [],
   "source": [
    "# to keep our tables in sync we'll also drop the outlier from our totals column\n",
    "dft = dft.dropna()"
   ]
  },
  {
   "cell_type": "code",
   "execution_count": 42,
   "metadata": {
    "collapsed": false,
    "scrolled": false
   },
   "outputs": [
    {
     "data": {
      "image/png": "[encoded data removed]",
      "text/plain": [
       "<matplotlib.figure.Figure at 0x111907470>"
      ]
     },
     "metadata": {},
     "output_type": "display_data"
    },
    {
     "data": {
      "image/png": "[encoded data removed]",
      "text/plain": [
       "<matplotlib.figure.Figure at 0x114cd1048>"
      ]
     },
     "metadata": {},
     "output_type": "display_data"
    }
   ],
   "source": [
    "# now we'll do a plot of the stats for each sector\n",
    "# first we set up a working frame sorted by company name and then date\n",
    "frame = dfl.sort_values(['company_name', 'date'])\n",
    "# now we'll loop through the uniqu segments(smb and emerging) \n",
    "# with each loop we'll build a plot\n",
    "for seg in frame.segment.unique():\n",
    "#     sets plot size\n",
    "    fig, ax = plt.subplots(1, figsize = (10,5),)\n",
    "#     sets plot title\n",
    "    ax.set_title(seg)\n",
    "#     plots a line for the mean\n",
    "    ax.plot(frame.groupby(['segment','date']).teus.mean().loc[seg])\n",
    "#     plots a line for the median\n",
    "    ax.plot(frame.groupby(['segment','date']).teus.median().loc[seg])\n",
    "#     plots a line for the standard deviation\n",
    "    ax.plot(frame.groupby(['segment','date']).teus.std().loc[seg])\n",
    "#     adds a legend too the plot\n",
    "    ax.legend(['mean','median','std','mode'],loc=7)\n"
   ]
  },
  {
   "cell_type": "markdown",
   "metadata": {},
   "source": [
    "That's a decent overview of segments, let's look a little more closeley at some of our companies first we'll pivot to make it a little easier"
   ]
  },
  {
   "cell_type": "code",
   "execution_count": 43,
   "metadata": {
    "collapsed": false,
    "scrolled": true
   },
   "outputs": [
    {
     "data": {
      "text/html": [
       "<div>\n",
       "<table border=\"1\" class=\"dataframe\">\n",
       "  <thead>\n",
       "    <tr style=\"text-align: right;\">\n",
       "      <th></th>\n",
       "      <th>month</th>\n",
       "      <th>1</th>\n",
       "      <th>2</th>\n",
       "      <th>3</th>\n",
       "      <th>4</th>\n",
       "      <th>5</th>\n",
       "      <th>6</th>\n",
       "      <th>7</th>\n",
       "      <th>8</th>\n",
       "    </tr>\n",
       "    <tr>\n",
       "      <th>segment</th>\n",
       "      <th>company_name</th>\n",
       "      <th></th>\n",
       "      <th></th>\n",
       "      <th></th>\n",
       "      <th></th>\n",
       "      <th></th>\n",
       "      <th></th>\n",
       "      <th></th>\n",
       "      <th></th>\n",
       "    </tr>\n",
       "  </thead>\n",
       "  <tbody>\n",
       "    <tr>\n",
       "      <th rowspan=\"8\" valign=\"top\">emerging</th>\n",
       "      <th>Fasetom Technologies</th>\n",
       "      <td>0.000000</td>\n",
       "      <td>0.000000</td>\n",
       "      <td>0.000000</td>\n",
       "      <td>15.000000</td>\n",
       "      <td>15.000000</td>\n",
       "      <td>25.000000</td>\n",
       "      <td>100.000000</td>\n",
       "      <td>150.000000</td>\n",
       "    </tr>\n",
       "    <tr>\n",
       "      <th>Keycane Sugar</th>\n",
       "      <td>35.000000</td>\n",
       "      <td>100.000000</td>\n",
       "      <td>255.000000</td>\n",
       "      <td>100.000000</td>\n",
       "      <td>5.000000</td>\n",
       "      <td>4.000000</td>\n",
       "      <td>3.000000</td>\n",
       "      <td>5.000000</td>\n",
       "    </tr>\n",
       "    <tr>\n",
       "      <th>Quotedax Inc.</th>\n",
       "      <td>6.000000</td>\n",
       "      <td>0.000000</td>\n",
       "      <td>0.000000</td>\n",
       "      <td>0.000000</td>\n",
       "      <td>0.000000</td>\n",
       "      <td>0.000000</td>\n",
       "      <td>0.000000</td>\n",
       "      <td>0.000000</td>\n",
       "    </tr>\n",
       "    <tr>\n",
       "      <th>Roundlex Rubber Seals</th>\n",
       "      <td>5.000000</td>\n",
       "      <td>4.000000</td>\n",
       "      <td>2.000000</td>\n",
       "      <td>1.000000</td>\n",
       "      <td>10.000000</td>\n",
       "      <td>25.000000</td>\n",
       "      <td>25.000000</td>\n",
       "      <td>30.000000</td>\n",
       "    </tr>\n",
       "    <tr>\n",
       "      <th>Strongline Inc</th>\n",
       "      <td>10.000000</td>\n",
       "      <td>10.000000</td>\n",
       "      <td>10.000000</td>\n",
       "      <td>0.000000</td>\n",
       "      <td>0.000000</td>\n",
       "      <td>0.000000</td>\n",
       "      <td>0.000000</td>\n",
       "      <td>0.000000</td>\n",
       "    </tr>\n",
       "    <tr>\n",
       "      <th>Strongline Ltd</th>\n",
       "      <td>0.000000</td>\n",
       "      <td>0.000000</td>\n",
       "      <td>0.000000</td>\n",
       "      <td>10.000000</td>\n",
       "      <td>10.000000</td>\n",
       "      <td>10.000000</td>\n",
       "      <td>10.000000</td>\n",
       "      <td>10.000000</td>\n",
       "    </tr>\n",
       "    <tr>\n",
       "      <th>Tempin Imports</th>\n",
       "      <td>0.000000</td>\n",
       "      <td>0.000000</td>\n",
       "      <td>0.000000</td>\n",
       "      <td>0.000000</td>\n",
       "      <td>40.000000</td>\n",
       "      <td>45.000000</td>\n",
       "      <td>10.000000</td>\n",
       "      <td>5.000000</td>\n",
       "    </tr>\n",
       "    <tr>\n",
       "      <th>Vialam</th>\n",
       "      <td>10.000000</td>\n",
       "      <td>6.571429</td>\n",
       "      <td>0.000000</td>\n",
       "      <td>0.000000</td>\n",
       "      <td>3.000000</td>\n",
       "      <td>15.000000</td>\n",
       "      <td>20.000000</td>\n",
       "      <td>30.000000</td>\n",
       "    </tr>\n",
       "    <tr>\n",
       "      <th rowspan=\"19\" valign=\"top\">smb</th>\n",
       "      <th>Air and Ocean Forwarding Asset</th>\n",
       "      <td>100.000000</td>\n",
       "      <td>250.000000</td>\n",
       "      <td>132.000000</td>\n",
       "      <td>109.000000</td>\n",
       "      <td>100.000000</td>\n",
       "      <td>0.000000</td>\n",
       "      <td>133.554600</td>\n",
       "      <td>284.673839</td>\n",
       "    </tr>\n",
       "    <tr>\n",
       "      <th>Bigfan Networks</th>\n",
       "      <td>467.928134</td>\n",
       "      <td>933.104624</td>\n",
       "      <td>287.986670</td>\n",
       "      <td>747.129698</td>\n",
       "      <td>485.167220</td>\n",
       "      <td>243.944781</td>\n",
       "      <td>86.613424</td>\n",
       "      <td>475.666162</td>\n",
       "    </tr>\n",
       "    <tr>\n",
       "      <th>FoodMain Plus</th>\n",
       "      <td>83.945962</td>\n",
       "      <td>105.969585</td>\n",
       "      <td>536.321426</td>\n",
       "      <td>989.007063</td>\n",
       "      <td>185.870874</td>\n",
       "      <td>910.484306</td>\n",
       "      <td>108.612937</td>\n",
       "      <td>128.403399</td>\n",
       "    </tr>\n",
       "    <tr>\n",
       "      <th>Generic Trading Company</th>\n",
       "      <td>682.839884</td>\n",
       "      <td>113.513941</td>\n",
       "      <td>581.253414</td>\n",
       "      <td>844.295927</td>\n",
       "      <td>583.741232</td>\n",
       "      <td>504.101360</td>\n",
       "      <td>887.900924</td>\n",
       "      <td>790.948970</td>\n",
       "    </tr>\n",
       "    <tr>\n",
       "      <th>Llyod Braun Enterprises</th>\n",
       "      <td>849.883741</td>\n",
       "      <td>276.148154</td>\n",
       "      <td>295.844287</td>\n",
       "      <td>823.021133</td>\n",
       "      <td>192.171345</td>\n",
       "      <td>788.873723</td>\n",
       "      <td>560.989276</td>\n",
       "      <td>550.023959</td>\n",
       "    </tr>\n",
       "    <tr>\n",
       "      <th>Quoteline Data Processing Machines</th>\n",
       "      <td>273.860308</td>\n",
       "      <td>733.168908</td>\n",
       "      <td>617.130778</td>\n",
       "      <td>18.427808</td>\n",
       "      <td>25.608108</td>\n",
       "      <td>626.528393</td>\n",
       "      <td>501.841158</td>\n",
       "      <td>822.614000</td>\n",
       "    </tr>\n",
       "    <tr>\n",
       "      <th>Sannanix Cross Injections</th>\n",
       "      <td>624.865435</td>\n",
       "      <td>157.873420</td>\n",
       "      <td>36.580052</td>\n",
       "      <td>357.042537</td>\n",
       "      <td>609.174040</td>\n",
       "      <td>200.166756</td>\n",
       "      <td>636.682241</td>\n",
       "      <td>953.549324</td>\n",
       "    </tr>\n",
       "    <tr>\n",
       "      <th>Silt Filter 2000</th>\n",
       "      <td>37.504785</td>\n",
       "      <td>936.669614</td>\n",
       "      <td>618.008489</td>\n",
       "      <td>488.421393</td>\n",
       "      <td>988.016737</td>\n",
       "      <td>967.021069</td>\n",
       "      <td>903.254054</td>\n",
       "      <td>77.754700</td>\n",
       "    </tr>\n",
       "    <tr>\n",
       "      <th>Solplanet LLC</th>\n",
       "      <td>761.499672</td>\n",
       "      <td>458.859806</td>\n",
       "      <td>163.056313</td>\n",
       "      <td>126.681240</td>\n",
       "      <td>254.659215</td>\n",
       "      <td>256.882596</td>\n",
       "      <td>640.729553</td>\n",
       "      <td>437.098487</td>\n",
       "    </tr>\n",
       "    <tr>\n",
       "      <th>SonElectronics</th>\n",
       "      <td>71.062642</td>\n",
       "      <td>996.127302</td>\n",
       "      <td>405.294087</td>\n",
       "      <td>520.333622</td>\n",
       "      <td>478.929101</td>\n",
       "      <td>500.015034</td>\n",
       "      <td>754.974166</td>\n",
       "      <td>264.483947</td>\n",
       "    </tr>\n",
       "    <tr>\n",
       "      <th>SumoTech</th>\n",
       "      <td>759.572514</td>\n",
       "      <td>200.030919</td>\n",
       "      <td>421.816088</td>\n",
       "      <td>580.244353</td>\n",
       "      <td>708.409383</td>\n",
       "      <td>945.268670</td>\n",
       "      <td>889.390322</td>\n",
       "      <td>659.803625</td>\n",
       "    </tr>\n",
       "    <tr>\n",
       "      <th>SunShade LLC</th>\n",
       "      <td>236.444682</td>\n",
       "      <td>407.160226</td>\n",
       "      <td>759.608352</td>\n",
       "      <td>845.124174</td>\n",
       "      <td>208.968511</td>\n",
       "      <td>763.822748</td>\n",
       "      <td>371.922500</td>\n",
       "      <td>550.643449</td>\n",
       "    </tr>\n",
       "    <tr>\n",
       "      <th>ThermoTemp Printing</th>\n",
       "      <td>384.228158</td>\n",
       "      <td>669.750606</td>\n",
       "      <td>657.906872</td>\n",
       "      <td>338.217431</td>\n",
       "      <td>908.696175</td>\n",
       "      <td>587.296051</td>\n",
       "      <td>130.787819</td>\n",
       "      <td>739.626232</td>\n",
       "    </tr>\n",
       "    <tr>\n",
       "      <th>TouchCone Systems</th>\n",
       "      <td>418.328477</td>\n",
       "      <td>39.188439</td>\n",
       "      <td>169.366887</td>\n",
       "      <td>638.608723</td>\n",
       "      <td>506.895500</td>\n",
       "      <td>40.732087</td>\n",
       "      <td>884.364022</td>\n",
       "      <td>485.226351</td>\n",
       "    </tr>\n",
       "    <tr>\n",
       "      <th>Tresdonice Inc.</th>\n",
       "      <td>157.501763</td>\n",
       "      <td>351.059391</td>\n",
       "      <td>633.436347</td>\n",
       "      <td>663.140290</td>\n",
       "      <td>755.509149</td>\n",
       "      <td>366.561887</td>\n",
       "      <td>105.893998</td>\n",
       "      <td>535.074393</td>\n",
       "    </tr>\n",
       "    <tr>\n",
       "      <th>TruthStreet Security Systems</th>\n",
       "      <td>559.371901</td>\n",
       "      <td>895.089118</td>\n",
       "      <td>107.430352</td>\n",
       "      <td>607.359215</td>\n",
       "      <td>556.283602</td>\n",
       "      <td>155.855392</td>\n",
       "      <td>889.042681</td>\n",
       "      <td>123.079126</td>\n",
       "    </tr>\n",
       "    <tr>\n",
       "      <th>UniTex Polymers</th>\n",
       "      <td>309.678196</td>\n",
       "      <td>424.228734</td>\n",
       "      <td>614.495248</td>\n",
       "      <td>224.423320</td>\n",
       "      <td>104.409398</td>\n",
       "      <td>75.238914</td>\n",
       "      <td>619.841911</td>\n",
       "      <td>940.115870</td>\n",
       "    </tr>\n",
       "    <tr>\n",
       "      <th>Waresplus World Wide</th>\n",
       "      <td>534.892514</td>\n",
       "      <td>145.436918</td>\n",
       "      <td>217.104683</td>\n",
       "      <td>280.515400</td>\n",
       "      <td>267.323361</td>\n",
       "      <td>709.328690</td>\n",
       "      <td>442.188800</td>\n",
       "      <td>764.692712</td>\n",
       "    </tr>\n",
       "    <tr>\n",
       "      <th>tempZoom</th>\n",
       "      <td>648.884191</td>\n",
       "      <td>415.029976</td>\n",
       "      <td>33.862457</td>\n",
       "      <td>902.441612</td>\n",
       "      <td>739.517848</td>\n",
       "      <td>126.578697</td>\n",
       "      <td>399.644935</td>\n",
       "      <td>693.242317</td>\n",
       "    </tr>\n",
       "  </tbody>\n",
       "</table>\n",
       "</div>"
      ],
      "text/plain": [
       "month                                                 1           2  \\\n",
       "segment  company_name                                                 \n",
       "emerging Fasetom Technologies                  0.000000    0.000000   \n",
       "         Keycane Sugar                        35.000000  100.000000   \n",
       "         Quotedax Inc.                         6.000000    0.000000   \n",
       "         Roundlex Rubber Seals                 5.000000    4.000000   \n",
       "         Strongline Inc                       10.000000   10.000000   \n",
       "         Strongline Ltd                        0.000000    0.000000   \n",
       "         Tempin Imports                        0.000000    0.000000   \n",
       "         Vialam                               10.000000    6.571429   \n",
       "smb      Air and Ocean Forwarding Asset      100.000000  250.000000   \n",
       "         Bigfan Networks                     467.928134  933.104624   \n",
       "         FoodMain Plus                        83.945962  105.969585   \n",
       "         Generic Trading Company             682.839884  113.513941   \n",
       "         Llyod Braun Enterprises             849.883741  276.148154   \n",
       "         Quoteline Data Processing Machines  273.860308  733.168908   \n",
       "         Sannanix Cross Injections           624.865435  157.873420   \n",
       "         Silt Filter 2000                     37.504785  936.669614   \n",
       "         Solplanet LLC                       761.499672  458.859806   \n",
       "         SonElectronics                       71.062642  996.127302   \n",
       "         SumoTech                            759.572514  200.030919   \n",
       "         SunShade LLC                        236.444682  407.160226   \n",
       "         ThermoTemp Printing                 384.228158  669.750606   \n",
       "         TouchCone Systems                   418.328477   39.188439   \n",
       "         Tresdonice Inc.                     157.501763  351.059391   \n",
       "         TruthStreet Security Systems        559.371901  895.089118   \n",
       "         UniTex Polymers                     309.678196  424.228734   \n",
       "         Waresplus World Wide                534.892514  145.436918   \n",
       "         tempZoom                            648.884191  415.029976   \n",
       "\n",
       "month                                                 3           4  \\\n",
       "segment  company_name                                                 \n",
       "emerging Fasetom Technologies                  0.000000   15.000000   \n",
       "         Keycane Sugar                       255.000000  100.000000   \n",
       "         Quotedax Inc.                         0.000000    0.000000   \n",
       "         Roundlex Rubber Seals                 2.000000    1.000000   \n",
       "         Strongline Inc                       10.000000    0.000000   \n",
       "         Strongline Ltd                        0.000000   10.000000   \n",
       "         Tempin Imports                        0.000000    0.000000   \n",
       "         Vialam                                0.000000    0.000000   \n",
       "smb      Air and Ocean Forwarding Asset      132.000000  109.000000   \n",
       "         Bigfan Networks                     287.986670  747.129698   \n",
       "         FoodMain Plus                       536.321426  989.007063   \n",
       "         Generic Trading Company             581.253414  844.295927   \n",
       "         Llyod Braun Enterprises             295.844287  823.021133   \n",
       "         Quoteline Data Processing Machines  617.130778   18.427808   \n",
       "         Sannanix Cross Injections            36.580052  357.042537   \n",
       "         Silt Filter 2000                    618.008489  488.421393   \n",
       "         Solplanet LLC                       163.056313  126.681240   \n",
       "         SonElectronics                      405.294087  520.333622   \n",
       "         SumoTech                            421.816088  580.244353   \n",
       "         SunShade LLC                        759.608352  845.124174   \n",
       "         ThermoTemp Printing                 657.906872  338.217431   \n",
       "         TouchCone Systems                   169.366887  638.608723   \n",
       "         Tresdonice Inc.                     633.436347  663.140290   \n",
       "         TruthStreet Security Systems        107.430352  607.359215   \n",
       "         UniTex Polymers                     614.495248  224.423320   \n",
       "         Waresplus World Wide                217.104683  280.515400   \n",
       "         tempZoom                             33.862457  902.441612   \n",
       "\n",
       "month                                                 5           6  \\\n",
       "segment  company_name                                                 \n",
       "emerging Fasetom Technologies                 15.000000   25.000000   \n",
       "         Keycane Sugar                         5.000000    4.000000   \n",
       "         Quotedax Inc.                         0.000000    0.000000   \n",
       "         Roundlex Rubber Seals                10.000000   25.000000   \n",
       "         Strongline Inc                        0.000000    0.000000   \n",
       "         Strongline Ltd                       10.000000   10.000000   \n",
       "         Tempin Imports                       40.000000   45.000000   \n",
       "         Vialam                                3.000000   15.000000   \n",
       "smb      Air and Ocean Forwarding Asset      100.000000    0.000000   \n",
       "         Bigfan Networks                     485.167220  243.944781   \n",
       "         FoodMain Plus                       185.870874  910.484306   \n",
       "         Generic Trading Company             583.741232  504.101360   \n",
       "         Llyod Braun Enterprises             192.171345  788.873723   \n",
       "         Quoteline Data Processing Machines   25.608108  626.528393   \n",
       "         Sannanix Cross Injections           609.174040  200.166756   \n",
       "         Silt Filter 2000                    988.016737  967.021069   \n",
       "         Solplanet LLC                       254.659215  256.882596   \n",
       "         SonElectronics                      478.929101  500.015034   \n",
       "         SumoTech                            708.409383  945.268670   \n",
       "         SunShade LLC                        208.968511  763.822748   \n",
       "         ThermoTemp Printing                 908.696175  587.296051   \n",
       "         TouchCone Systems                   506.895500   40.732087   \n",
       "         Tresdonice Inc.                     755.509149  366.561887   \n",
       "         TruthStreet Security Systems        556.283602  155.855392   \n",
       "         UniTex Polymers                     104.409398   75.238914   \n",
       "         Waresplus World Wide                267.323361  709.328690   \n",
       "         tempZoom                            739.517848  126.578697   \n",
       "\n",
       "month                                                 7           8  \n",
       "segment  company_name                                                \n",
       "emerging Fasetom Technologies                100.000000  150.000000  \n",
       "         Keycane Sugar                         3.000000    5.000000  \n",
       "         Quotedax Inc.                         0.000000    0.000000  \n",
       "         Roundlex Rubber Seals                25.000000   30.000000  \n",
       "         Strongline Inc                        0.000000    0.000000  \n",
       "         Strongline Ltd                       10.000000   10.000000  \n",
       "         Tempin Imports                       10.000000    5.000000  \n",
       "         Vialam                               20.000000   30.000000  \n",
       "smb      Air and Ocean Forwarding Asset      133.554600  284.673839  \n",
       "         Bigfan Networks                      86.613424  475.666162  \n",
       "         FoodMain Plus                       108.612937  128.403399  \n",
       "         Generic Trading Company             887.900924  790.948970  \n",
       "         Llyod Braun Enterprises             560.989276  550.023959  \n",
       "         Quoteline Data Processing Machines  501.841158  822.614000  \n",
       "         Sannanix Cross Injections           636.682241  953.549324  \n",
       "         Silt Filter 2000                    903.254054   77.754700  \n",
       "         Solplanet LLC                       640.729553  437.098487  \n",
       "         SonElectronics                      754.974166  264.483947  \n",
       "         SumoTech                            889.390322  659.803625  \n",
       "         SunShade LLC                        371.922500  550.643449  \n",
       "         ThermoTemp Printing                 130.787819  739.626232  \n",
       "         TouchCone Systems                   884.364022  485.226351  \n",
       "         Tresdonice Inc.                     105.893998  535.074393  \n",
       "         TruthStreet Security Systems        889.042681  123.079126  \n",
       "         UniTex Polymers                     619.841911  940.115870  \n",
       "         Waresplus World Wide                442.188800  764.692712  \n",
       "         tempZoom                            399.644935  693.242317  "
      ]
     },
     "execution_count": 43,
     "metadata": {},
     "output_type": "execute_result"
    }
   ],
   "source": [
    "# now we'll create a pivot table,  we'll separate on the index it first by segment\n",
    "#  and then bycompany name.  we want our columns to be months, and we want the values to \n",
    "# be the teus value\n",
    "pf = pd.pivot_table(dfl,index=['segment','company_name'],columns='month',values='teus')\n",
    "# that operation gives us a bunch of  null values where observations simply didn't exist \n",
    "# matplotlib gets frustrated with null values so fe'll fill them with zeros\n",
    "pf = pf.fillna(0)\n",
    "# and we can take a look\n",
    "pf"
   ]
  },
  {
   "cell_type": "raw",
   "metadata": {},
   "source": [
    "great,  now we'll look at the contributions of each company as a percentage of units using a stacked bar plot.  This is a massive PITA in matplotlib "
   ]
  },
  {
   "cell_type": "code",
   "execution_count": 44,
   "metadata": {
    "collapsed": false
   },
   "outputs": [
    {
     "data": {
      "image/png": "[encoded data removed]",
      "text/plain": [
       "<matplotlib.figure.Figure at 0x114f63ac8>"
      ]
     },
     "metadata": {},
     "output_type": "display_data"
    },
    {
     "data": {
      "image/png": "[encoded data removed]",
      "text/plain": [
       "<matplotlib.figure.Figure at 0x114f63160>"
      ]
     },
     "metadata": {},
     "output_type": "display_data"
    }
   ],
   "source": [
    "# as above we loop through segments, createing a new plot for each segment\n",
    "for seg in dfl.segment.unique():\n",
    "#     we set up a working frame that is a view of our pivot table with just the segment we're interested in\n",
    "    wf = pf.loc[seg]\n",
    "#     we initialize the plot\n",
    "    fig, ax = plt.subplots(1, figsize=(10,5))\n",
    "#     we title the plot as the segment name\n",
    "    ax.set_title(seg)\n",
    "#     we tell it how wide each bar should be\n",
    "    bar_width = 1\n",
    "#     we make a list of 0,1,2... one digit for each company observed\n",
    "    bar_l = [i for i in range(len(wf[1]))]\n",
    "#     we make a list of positional indicators for the labels on our plot \n",
    "    tick_pos = [i+(bar_width/2) for i in bar_l]\n",
    "#     we sum up the totals for each column\n",
    "    totals = [sum(i) for i  in zip(wf[1],wf[2],wf[3],wf[4],wf[5],wf[6],wf[7],wf[8])]\n",
    "#     we make a plist of the percentage each company represents for each month \n",
    "# based on the totals we summed above\n",
    "    jan = [i / j * 100 for  i,j in zip(wf[1], totals)]\n",
    "    feb = [i / j * 100 for  i,j in zip(wf[2], totals)]\n",
    "    mar = [i / j * 100 for  i,j in zip(wf[3], totals)]\n",
    "    apr = [i / j * 100 for  i,j in zip(wf[4], totals)]\n",
    "    may = [i / j * 100 for  i,j in zip(wf[5], totals)]\n",
    "    jun = [i / j * 100 for  i,j in zip(wf[6], totals)]\n",
    "    jul = [i / j * 100 for  i,j in zip(wf[7], totals)]\n",
    "    aug = [i / j * 100 for  i,j in zip(wf[8], totals)]\n",
    "#     we build the bars for each observed month and we \n",
    "#     stack them on top of each other using the bottom param\n",
    "    ax.bar(bar_l, jan, label= 'jan',width=bar_width,\n",
    "           color='#0abab5',edgecolor='white', alpha=.7)\n",
    "    ax.bar(bar_l, feb, label= 'feb',\n",
    "           bottom=jan,width=bar_width, \n",
    "           color='#bd0900',edgecolor='white', alpha=.7)\n",
    "    ax.bar(bar_l, mar, label= 'mar',\n",
    "           bottom=[i+j for i,j in zip(jan, feb)],\n",
    "           width=bar_width, color='#cef688',edgecolor='white', alpha=.7)\n",
    "    ax.bar(bar_l, apr, label= 'apr',\n",
    "           bottom=[i+j+k for i,j,k in zip(jan,feb,mar )],\n",
    "           width=bar_width, color='#502369',edgecolor='white', alpha=.7)\n",
    "    ax.bar(bar_l, may, label= 'may',\n",
    "           bottom=[i+j+k+l for i,j,k,l in zip(jan,feb,mar,apr )],\n",
    "           width=bar_width, color='#05ecff',edgecolor='white', alpha=.7)\n",
    "    ax.bar(bar_l, jun, label= 'jun',\n",
    "           bottom=[i+j+k+l+m for i,j,k,l,m in zip(jan,feb,mar,apr,may )],\n",
    "           width=bar_width, color='#207319',edgecolor='white', alpha=.7)\n",
    "    ax.bar(bar_l, jul, label= 'jul',\n",
    "           bottom=[i+j+k+l+m+n for i,j,k,l,m,n in zip(jan,feb,mar,apr,may,jun )],\n",
    "           width=bar_width, color='#a988bc',edgecolor='white', alpha=.7)\n",
    "#     I'll break down all the params here:\n",
    "# ax.bar means give me a new bar, we pass bar_l so that it gives us one  bar for each company\n",
    "    ax.bar(bar_l, \n",
    "#            this data is for august so we tell it to use the aug list to build the bars height\n",
    "           aug, \n",
    "#            we give it a label of aug\n",
    "           label= 'aug',\n",
    "#            we tell it to make the bars 'bar_width' wide as defined above\n",
    "           width=bar_width, \n",
    "#            we tell it what color these bars should be\n",
    "           color='#c8994b',\n",
    "#            we set the position of our bars as the sum of the height of all the bars that came before it\n",
    "           bottom=[i1+i2+i3+i4+i5+i6+i7 for i1,i2,i3,i4,i5,i6,i7 in zip(jan,feb,mar,apr,may,jun,jul)],\n",
    "#            we give the bars a white border\n",
    "           edgecolor='white', \n",
    "#            we make the bars have a 70% opacity\n",
    "           alpha=.7)\n",
    "#     we create a legend for the plot\n",
    "    ax.legend(['jan','feb','mar','apr','may','jun','jul','aug'])\n",
    "#     we add the company names along the x axis\n",
    "    plt.xticks(tick_pos, wf.index)\n",
    "#     we set a limit for the width of the x axis based on our data\n",
    "    plt.xlim([min(tick_pos)-bar_width, max(tick_pos)+bar_width+2])\n",
    "#     we set a limit for the y axis\n",
    "    plt.ylim(-10, 110)\n",
    "#     we make those labels legible by rotating them 45 degrees\n",
    "    plt.setp(plt.gca().get_xticklabels(), rotation=45, horizontalalignment='right')\n",
    "    \n",
    "# gonna make this arbitrary "
   ]
  },
  {
   "cell_type": "markdown",
   "metadata": {},
   "source": [
    "The next bit i'm going to try to make a stacked bar chart to get a feel for how much volume each company does on a monthely basis, this is still in progress"
   ]
  },
  {
   "cell_type": "code",
   "execution_count": 45,
   "metadata": {
    "collapsed": false,
    "scrolled": true
   },
   "outputs": [],
   "source": [
    "# thit is a new pivot table view of the data, \n",
    "# this time we put the months as rows and the segment/company as columns \n",
    "pc = pd.pivot_table(dfl,index=['month'],columns=['segment','company_name'],values='teus')\n",
    "pc = pc.fillna(0)"
   ]
  },
  {
   "cell_type": "code",
   "execution_count": 46,
   "metadata": {
    "collapsed": false
   },
   "outputs": [],
   "source": [
    "import matplotlib.cm as cmx\n",
    "import matplotlib.colors as colors\n",
    "def get_cmap(N, mapname='hsv'):\n",
    "    '''Returns a function that maps each index in 0, 1, ... N-1 to a distinct \n",
    "    RGB color.'''\n",
    "    color_norm  = colors.Normalize(vmin=0, vmax=N-1)\n",
    "    scalar_map = cmx.ScalarMappable(norm=color_norm, cmap=mapname) \n",
    "    def map_index_to_rgb_color(index):\n",
    "        return scalar_map.to_rgba(index)\n",
    "    return map_index_to_rgb_color\n",
    "\n",
    "cmap = get_cmap(len(pc.iloc[1]),'viridis')"
   ]
  },
  {
   "cell_type": "code",
   "execution_count": 47,
   "metadata": {
    "collapsed": false
   },
   "outputs": [],
   "source": [
    "def stacked_bar(level1,pivot,colormap='gist_ncar'):\n",
    "    '''\n",
    "    for doing stacked bar plots on a multilevel pivot table\n",
    "    '''\n",
    "    for seg in level1:\n",
    "        frame = pivot[seg]\n",
    "        fig, ax = plt.subplots(1, figsize=(10,5))\n",
    "        ax.set_title(seg)\n",
    "        bar_l = [i for i in range(len(frame.iloc[:,0]))]\n",
    "        bar_width = 1\n",
    "        tick_pos = [i+(bar_width/2) for i in bar_l]\n",
    "        heights = []\n",
    "        cmap = get_cmap(len(frame.iloc[0]),colormap)\n",
    "        for i, c in enumerate(frame.columns):\n",
    "            cols = list(frame.iloc[:,:i].columns)\n",
    "            if len(cols) == 0:\n",
    "                heights.append(np.zeros(len(frame.iloc[:,0])))\n",
    "            if len(cols) == 1:\n",
    "                heights.append(list(frame[cols[0]]))\n",
    "            if len(cols) > 1:\n",
    "                heights.append([np.sum(i) for i in zip(*[frame[col] for col in cols])])\n",
    "        for i,c in enumerate(frame.columns):\n",
    "            ax.bar(bar_l, frame[c], width=bar_width,\n",
    "                   bottom= heights[i], label=c ,color=cmap(i), edgecolor='black')\n",
    "        leg_n = [''.join(x[:15]) for x in [list(i) for i in frame.columns]]\n",
    "        lgnd = ax.legend(leg_n,loc=7,fontsize=8,fancybox=1)\n",
    "        lgnd.set_bbox_to_anchor((1.18,.5))\n",
    "        \n",
    "        plt.xticks(tick_pos, frame.index)\n",
    "        plt.xlim([min(tick_pos)-bar_width, max(tick_pos)+bar_width])\n"
   ]
  },
  {
   "cell_type": "code",
   "execution_count": 48,
   "metadata": {
    "collapsed": false
   },
   "outputs": [
    {
     "data": {
      "image/png": "[encoded data removed]",
      "text/plain": [
       "<matplotlib.figure.Figure at 0x114cf5a20>"
      ]
     },
     "metadata": {},
     "output_type": "display_data"
    },
    {
     "data": {
      "image/png": "[encoded data removed]",
      "text/plain": [
       "<matplotlib.figure.Figure at 0x115404f60>"
      ]
     },
     "metadata": {},
     "output_type": "display_data"
    }
   ],
   "source": [
    "stacked_bar(level1=dfl.segment.unique(), pivot=pc)"
   ]
  }
 ],
 "metadata": {
  "kernelspec": {
   "display_name": "Python 3",
   "language": "python",
   "name": "python3"
  },
  "language_info": {
   "codemirror_mode": {
    "name": "ipython",
    "version": 3
   },
   "file_extension": ".py",
   "mimetype": "text/x-python",
   "name": "python",
   "nbconvert_exporter": "python",
   "pygments_lexer": "ipython3",
   "version": "3.5.3"
  }
 },
 "nbformat": 4,
 "nbformat_minor": 2
}
